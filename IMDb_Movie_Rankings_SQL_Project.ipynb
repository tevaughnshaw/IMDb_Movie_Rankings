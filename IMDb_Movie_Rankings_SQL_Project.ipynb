{
 "cells": [
  {
   "cell_type": "code",
   "execution_count": 2,
   "id": "82cd7d27",
   "metadata": {},
   "outputs": [],
   "source": [
    "import pandas as pd\n",
    "import pandasql\n",
    "from pandasql import sqldf"
   ]
  },
  {
   "cell_type": "code",
   "execution_count": 5,
   "id": "69490b0b",
   "metadata": {},
   "outputs": [
    {
     "name": "stdout",
     "output_type": "stream",
     "text": [
      "Collecting openpyxl\n",
      "  Downloading openpyxl-3.0.10-py2.py3-none-any.whl (242 kB)\n",
      "     -------------------------------------- 242.1/242.1 kB 3.7 MB/s eta 0:00:00\n",
      "Collecting et-xmlfile\n",
      "  Using cached et_xmlfile-1.1.0-py3-none-any.whl (4.7 kB)\n",
      "Installing collected packages: et-xmlfile, openpyxl\n",
      "Successfully installed et-xmlfile-1.1.0 openpyxl-3.0.10\n"
     ]
    }
   ],
   "source": [
    "!pip install openpyxl"
   ]
  },
  {
   "cell_type": "code",
   "execution_count": 6,
   "id": "48c40598",
   "metadata": {},
   "outputs": [
    {
     "data": {
      "text/html": [
       "<div>\n",
       "<style scoped>\n",
       "    .dataframe tbody tr th:only-of-type {\n",
       "        vertical-align: middle;\n",
       "    }\n",
       "\n",
       "    .dataframe tbody tr th {\n",
       "        vertical-align: top;\n",
       "    }\n",
       "\n",
       "    .dataframe thead th {\n",
       "        text-align: right;\n",
       "    }\n",
       "</style>\n",
       "<table border=\"1\" class=\"dataframe\">\n",
       "  <thead>\n",
       "    <tr style=\"text-align: right;\">\n",
       "      <th></th>\n",
       "      <th>ID</th>\n",
       "      <th>Language</th>\n",
       "      <th>Title</th>\n",
       "      <th>Popularity</th>\n",
       "      <th>Release_Date</th>\n",
       "      <th>Vote_Average</th>\n",
       "      <th>Vote_Count</th>\n",
       "      <th>Genre</th>\n",
       "      <th>Revenue</th>\n",
       "      <th>Runtime</th>\n",
       "    </tr>\n",
       "  </thead>\n",
       "  <tbody>\n",
       "    <tr>\n",
       "      <th>0</th>\n",
       "      <td>580489</td>\n",
       "      <td>en</td>\n",
       "      <td>Venom: Let There Be Carnage</td>\n",
       "      <td>5401.308</td>\n",
       "      <td>2021-09-30</td>\n",
       "      <td>6.8</td>\n",
       "      <td>1736</td>\n",
       "      <td>['Science Fiction', 'Action', 'Adventure']</td>\n",
       "      <td>424000000.0</td>\n",
       "      <td>97.0</td>\n",
       "    </tr>\n",
       "    <tr>\n",
       "      <th>1</th>\n",
       "      <td>524434</td>\n",
       "      <td>en</td>\n",
       "      <td>Eternals</td>\n",
       "      <td>3365.535</td>\n",
       "      <td>2021-11-03</td>\n",
       "      <td>7.1</td>\n",
       "      <td>622</td>\n",
       "      <td>['Action', 'Adventure', 'Science Fiction', 'Fa...</td>\n",
       "      <td>165000000.0</td>\n",
       "      <td>157.0</td>\n",
       "    </tr>\n",
       "    <tr>\n",
       "      <th>2</th>\n",
       "      <td>438631</td>\n",
       "      <td>en</td>\n",
       "      <td>Dune</td>\n",
       "      <td>2911.423</td>\n",
       "      <td>2021-09-15</td>\n",
       "      <td>8.0</td>\n",
       "      <td>3632</td>\n",
       "      <td>['Action', 'Adventure', 'Science Fiction']</td>\n",
       "      <td>331116356.0</td>\n",
       "      <td>155.0</td>\n",
       "    </tr>\n",
       "    <tr>\n",
       "      <th>3</th>\n",
       "      <td>796499</td>\n",
       "      <td>en</td>\n",
       "      <td>Army of Thieves</td>\n",
       "      <td>2552.437</td>\n",
       "      <td>2021-10-27</td>\n",
       "      <td>6.9</td>\n",
       "      <td>555</td>\n",
       "      <td>['Action', 'Crime', 'Thriller']</td>\n",
       "      <td>0.0</td>\n",
       "      <td>127.0</td>\n",
       "    </tr>\n",
       "    <tr>\n",
       "      <th>4</th>\n",
       "      <td>550988</td>\n",
       "      <td>en</td>\n",
       "      <td>Free Guy</td>\n",
       "      <td>1850.470</td>\n",
       "      <td>2021-08-11</td>\n",
       "      <td>7.8</td>\n",
       "      <td>3493</td>\n",
       "      <td>['Comedy', 'Action', 'Adventure', 'Science Fic...</td>\n",
       "      <td>331096766.0</td>\n",
       "      <td>115.0</td>\n",
       "    </tr>\n",
       "  </tbody>\n",
       "</table>\n",
       "</div>"
      ],
      "text/plain": [
       "       ID Language                        Title  Popularity Release_Date  \\\n",
       "0  580489       en  Venom: Let There Be Carnage    5401.308   2021-09-30   \n",
       "1  524434       en                     Eternals    3365.535   2021-11-03   \n",
       "2  438631       en                         Dune    2911.423   2021-09-15   \n",
       "3  796499       en              Army of Thieves    2552.437   2021-10-27   \n",
       "4  550988       en                     Free Guy    1850.470   2021-08-11   \n",
       "\n",
       "   Vote_Average  Vote_Count  \\\n",
       "0           6.8        1736   \n",
       "1           7.1         622   \n",
       "2           8.0        3632   \n",
       "3           6.9         555   \n",
       "4           7.8        3493   \n",
       "\n",
       "                                               Genre      Revenue  Runtime  \n",
       "0         ['Science Fiction', 'Action', 'Adventure']  424000000.0     97.0  \n",
       "1  ['Action', 'Adventure', 'Science Fiction', 'Fa...  165000000.0    157.0  \n",
       "2         ['Action', 'Adventure', 'Science Fiction']  331116356.0    155.0  \n",
       "3                    ['Action', 'Crime', 'Thriller']          0.0    127.0  \n",
       "4  ['Comedy', 'Action', 'Adventure', 'Science Fic...  331096766.0    115.0  "
      ]
     },
     "execution_count": 6,
     "metadata": {},
     "output_type": "execute_result"
    }
   ],
   "source": [
    "# create df from xlsx file\n",
    "df = pd.read_excel('imdb_movies.xlsx')\n",
    "df.head()"
   ]
  },
  {
   "cell_type": "code",
   "execution_count": 7,
   "id": "2d4f7297",
   "metadata": {},
   "outputs": [
    {
     "data": {
      "text/plain": [
       "ID                       int64\n",
       "Language                object\n",
       "Title                   object\n",
       "Popularity             float64\n",
       "Release_Date    datetime64[ns]\n",
       "Vote_Average           float64\n",
       "Vote_Count               int64\n",
       "Genre                   object\n",
       "Revenue                float64\n",
       "Runtime                float64\n",
       "dtype: object"
      ]
     },
     "execution_count": 7,
     "metadata": {},
     "output_type": "execute_result"
    }
   ],
   "source": [
    "# check dtypes of df before querying\n",
    "df.dtypes"
   ]
  },
  {
   "cell_type": "markdown",
   "id": "35a03e87",
   "metadata": {},
   "source": [
    "#  Does highest popularity equal an overall highest earned revenue film? (i.e. top ranked popular movie(s)  = highest earned revenue films)"
   ]
  },
  {
   "cell_type": "code",
   "execution_count": 10,
   "id": "f38fa77a",
   "metadata": {},
   "outputs": [
    {
     "data": {
      "text/html": [
       "<div>\n",
       "<style scoped>\n",
       "    .dataframe tbody tr th:only-of-type {\n",
       "        vertical-align: middle;\n",
       "    }\n",
       "\n",
       "    .dataframe tbody tr th {\n",
       "        vertical-align: top;\n",
       "    }\n",
       "\n",
       "    .dataframe thead th {\n",
       "        text-align: right;\n",
       "    }\n",
       "</style>\n",
       "<table border=\"1\" class=\"dataframe\">\n",
       "  <thead>\n",
       "    <tr style=\"text-align: right;\">\n",
       "      <th></th>\n",
       "      <th>Title</th>\n",
       "      <th>Popularity</th>\n",
       "      <th>Release_Date</th>\n",
       "      <th>Genre</th>\n",
       "      <th>Revenue</th>\n",
       "    </tr>\n",
       "  </thead>\n",
       "  <tbody>\n",
       "    <tr>\n",
       "      <th>0</th>\n",
       "      <td>Venom: Let There Be Carnage</td>\n",
       "      <td>5401.308</td>\n",
       "      <td>2021-09-30 00:00:00.000000</td>\n",
       "      <td>['Science Fiction', 'Action', 'Adventure']</td>\n",
       "      <td>424000000.0</td>\n",
       "    </tr>\n",
       "  </tbody>\n",
       "</table>\n",
       "</div>"
      ],
      "text/plain": [
       "                         Title  Popularity                Release_Date  \\\n",
       "0  Venom: Let There Be Carnage    5401.308  2021-09-30 00:00:00.000000   \n",
       "\n",
       "                                        Genre      Revenue  \n",
       "0  ['Science Fiction', 'Action', 'Adventure']  424000000.0  "
      ]
     },
     "execution_count": 10,
     "metadata": {},
     "output_type": "execute_result"
    }
   ],
   "source": [
    "# query to find max popularity film\n",
    "df1 = pandasql.sqldf('SELECT \"Title\", MAX(\"Popularity\") as Popularity, \"Release_Date\", \"Genre\", \"Revenue\" FROM df', globals())\n",
    "df1.head()"
   ]
  },
  {
   "cell_type": "code",
   "execution_count": 11,
   "id": "0edd25df",
   "metadata": {},
   "outputs": [
    {
     "data": {
      "text/html": [
       "<div>\n",
       "<style scoped>\n",
       "    .dataframe tbody tr th:only-of-type {\n",
       "        vertical-align: middle;\n",
       "    }\n",
       "\n",
       "    .dataframe tbody tr th {\n",
       "        vertical-align: top;\n",
       "    }\n",
       "\n",
       "    .dataframe thead th {\n",
       "        text-align: right;\n",
       "    }\n",
       "</style>\n",
       "<table border=\"1\" class=\"dataframe\">\n",
       "  <thead>\n",
       "    <tr style=\"text-align: right;\">\n",
       "      <th></th>\n",
       "      <th>Title</th>\n",
       "      <th>Popularity</th>\n",
       "      <th>Release_Date</th>\n",
       "      <th>Genre</th>\n",
       "      <th>Revenue</th>\n",
       "    </tr>\n",
       "  </thead>\n",
       "  <tbody>\n",
       "    <tr>\n",
       "      <th>0</th>\n",
       "      <td>Avatar</td>\n",
       "      <td>374.059</td>\n",
       "      <td>2009-12-10 00:00:00.000000</td>\n",
       "      <td>['Action', 'Adventure', 'Fantasy', 'Science Fi...</td>\n",
       "      <td>2.847246e+09</td>\n",
       "    </tr>\n",
       "  </tbody>\n",
       "</table>\n",
       "</div>"
      ],
      "text/plain": [
       "    Title  Popularity                Release_Date  \\\n",
       "0  Avatar     374.059  2009-12-10 00:00:00.000000   \n",
       "\n",
       "                                               Genre       Revenue  \n",
       "0  ['Action', 'Adventure', 'Fantasy', 'Science Fi...  2.847246e+09  "
      ]
     },
     "execution_count": 11,
     "metadata": {},
     "output_type": "execute_result"
    }
   ],
   "source": [
    "# query to find max revenue film\n",
    "df1 = pandasql.sqldf('SELECT \"Title\", \"Popularity\", \"Release_Date\", \"Genre\", MAX(\"Revenue\") as Revenue FROM df', globals())\n",
    "df1.head()"
   ]
  },
  {
   "cell_type": "markdown",
   "id": "438288b6",
   "metadata": {},
   "source": [
    "### Avatar generated 2.85 billion dollars in revenue; however, Venom: Let There Be Carnage generated only 424 million in revenue. Avatar's popularity score only 374. The higher the popularity score, the more popular the movie. We can conclude that highest popularity scored film does not equal highest revenue film."
   ]
  },
  {
   "cell_type": "markdown",
   "id": "f50df64c",
   "metadata": {},
   "source": [
    "#  Which movie ranked highest vote count?"
   ]
  },
  {
   "cell_type": "code",
   "execution_count": 29,
   "id": "bb7a6153",
   "metadata": {},
   "outputs": [
    {
     "data": {
      "text/html": [
       "<div>\n",
       "<style scoped>\n",
       "    .dataframe tbody tr th:only-of-type {\n",
       "        vertical-align: middle;\n",
       "    }\n",
       "\n",
       "    .dataframe tbody tr th {\n",
       "        vertical-align: top;\n",
       "    }\n",
       "\n",
       "    .dataframe thead th {\n",
       "        text-align: right;\n",
       "    }\n",
       "</style>\n",
       "<table border=\"1\" class=\"dataframe\">\n",
       "  <thead>\n",
       "    <tr style=\"text-align: right;\">\n",
       "      <th></th>\n",
       "      <th>Title</th>\n",
       "      <th>Popularity</th>\n",
       "      <th>Release_Date</th>\n",
       "      <th>Genre</th>\n",
       "      <th>Vote</th>\n",
       "    </tr>\n",
       "  </thead>\n",
       "  <tbody>\n",
       "    <tr>\n",
       "      <th>0</th>\n",
       "      <td>Inception</td>\n",
       "      <td>144.741</td>\n",
       "      <td>2010-07-15 00:00:00.000000</td>\n",
       "      <td>['Action', 'Science Fiction', 'Adventure']</td>\n",
       "      <td>30184</td>\n",
       "    </tr>\n",
       "  </tbody>\n",
       "</table>\n",
       "</div>"
      ],
      "text/plain": [
       "       Title  Popularity                Release_Date  \\\n",
       "0  Inception     144.741  2010-07-15 00:00:00.000000   \n",
       "\n",
       "                                        Genre   Vote  \n",
       "0  ['Action', 'Science Fiction', 'Adventure']  30184  "
      ]
     },
     "execution_count": 29,
     "metadata": {},
     "output_type": "execute_result"
    }
   ],
   "source": [
    "df1 = pandasql.sqldf('SELECT \"Title\", \"Popularity\", \"Release_Date\", \"Genre\", MAX(\"Vote_Count\") as Vote FROM df', globals())\n",
    "df1.head()"
   ]
  },
  {
   "cell_type": "markdown",
   "id": "d7d28108",
   "metadata": {},
   "source": [
    "### Inception movie was determined to highest voted movie by users on IMDB website. This could change due to the dataset not being up to date as IMDB webpage. When a user submits a vote for a movie the vote is not automatically updated but instead updated numerous times a day according to IMDB FAQ's [https://help.imdb.com/article/imdb/track-movies-tv/ratings-faq/G67Y87TFYYP6TWAV#]"
   ]
  },
  {
   "cell_type": "code",
   "execution_count": 30,
   "id": "07cac0ba",
   "metadata": {},
   "outputs": [
    {
     "data": {
      "text/html": [
       "<div>\n",
       "<style scoped>\n",
       "    .dataframe tbody tr th:only-of-type {\n",
       "        vertical-align: middle;\n",
       "    }\n",
       "\n",
       "    .dataframe tbody tr th {\n",
       "        vertical-align: top;\n",
       "    }\n",
       "\n",
       "    .dataframe thead th {\n",
       "        text-align: right;\n",
       "    }\n",
       "</style>\n",
       "<table border=\"1\" class=\"dataframe\">\n",
       "  <thead>\n",
       "    <tr style=\"text-align: right;\">\n",
       "      <th></th>\n",
       "      <th>Title</th>\n",
       "      <th>Popularity</th>\n",
       "      <th>Release_Date</th>\n",
       "      <th>Genre</th>\n",
       "      <th>Vote_Count</th>\n",
       "    </tr>\n",
       "  </thead>\n",
       "  <tbody>\n",
       "    <tr>\n",
       "      <th>0</th>\n",
       "      <td>Fast &amp; Furious 10</td>\n",
       "      <td>211.849</td>\n",
       "      <td>2023-04-06 00:00:00.000000</td>\n",
       "      <td>['Action', 'Crime']</td>\n",
       "      <td>0</td>\n",
       "    </tr>\n",
       "    <tr>\n",
       "      <th>1</th>\n",
       "      <td>Avatar 2</td>\n",
       "      <td>58.466</td>\n",
       "      <td>2022-12-14 00:00:00.000000</td>\n",
       "      <td>['Action', 'Adventure', 'Science Fiction', 'Fa...</td>\n",
       "      <td>0</td>\n",
       "    </tr>\n",
       "    <tr>\n",
       "      <th>2</th>\n",
       "      <td>The Flash</td>\n",
       "      <td>70.092</td>\n",
       "      <td>2022-11-02 00:00:00.000000</td>\n",
       "      <td>['Action', 'Adventure', 'Science Fiction', 'Fa...</td>\n",
       "      <td>0</td>\n",
       "    </tr>\n",
       "    <tr>\n",
       "      <th>3</th>\n",
       "      <td>Halloween Ends</td>\n",
       "      <td>32.685</td>\n",
       "      <td>2022-10-13 00:00:00.000000</td>\n",
       "      <td>['Horror', 'Thriller']</td>\n",
       "      <td>0</td>\n",
       "    </tr>\n",
       "    <tr>\n",
       "      <th>4</th>\n",
       "      <td>Spider-Man: Across the Spider-Verse</td>\n",
       "      <td>75.702</td>\n",
       "      <td>2022-10-06 00:00:00.000000</td>\n",
       "      <td>['Animation', 'Action', 'Science Fiction', 'Co...</td>\n",
       "      <td>0</td>\n",
       "    </tr>\n",
       "  </tbody>\n",
       "</table>\n",
       "</div>"
      ],
      "text/plain": [
       "                                 Title  Popularity  \\\n",
       "0                    Fast & Furious 10     211.849   \n",
       "1                             Avatar 2      58.466   \n",
       "2                            The Flash      70.092   \n",
       "3                       Halloween Ends      32.685   \n",
       "4  Spider-Man: Across the Spider-Verse      75.702   \n",
       "\n",
       "                 Release_Date  \\\n",
       "0  2023-04-06 00:00:00.000000   \n",
       "1  2022-12-14 00:00:00.000000   \n",
       "2  2022-11-02 00:00:00.000000   \n",
       "3  2022-10-13 00:00:00.000000   \n",
       "4  2022-10-06 00:00:00.000000   \n",
       "\n",
       "                                               Genre  Vote_Count  \n",
       "0                                ['Action', 'Crime']           0  \n",
       "1  ['Action', 'Adventure', 'Science Fiction', 'Fa...           0  \n",
       "2  ['Action', 'Adventure', 'Science Fiction', 'Fa...           0  \n",
       "3                             ['Horror', 'Thriller']           0  \n",
       "4  ['Animation', 'Action', 'Science Fiction', 'Co...           0  "
      ]
     },
     "execution_count": 30,
     "metadata": {},
     "output_type": "execute_result"
    }
   ],
   "source": [
    "df1 = pandasql.sqldf('SELECT \"Title\", \"Popularity\", \"Release_Date\", \"Genre\", \"Vote_Count\" FROM df ORDER BY \"Release_Date\" DESC', globals())\n",
    "df1.head()"
   ]
  }
 ],
 "metadata": {
  "kernelspec": {
   "display_name": "Python 3 (ipykernel)",
   "language": "python",
   "name": "python3"
  },
  "language_info": {
   "codemirror_mode": {
    "name": "ipython",
    "version": 3
   },
   "file_extension": ".py",
   "mimetype": "text/x-python",
   "name": "python",
   "nbconvert_exporter": "python",
   "pygments_lexer": "ipython3",
   "version": "3.9.16"
  }
 },
 "nbformat": 4,
 "nbformat_minor": 5
}
